{
  "nbformat": 4,
  "nbformat_minor": 0,
  "metadata": {
    "colab": {
      "provenance": []
    },
    "kernelspec": {
      "name": "python3",
      "display_name": "Python 3"
    },
    "language_info": {
      "name": "python"
    }
  },
  "cells": [
    {
      "cell_type": "code",
      "execution_count": null,
      "metadata": {
        "id": "lII3OL-3b_uz"
      },
      "outputs": [],
      "source": [
        "# ELIJAH MALABUYO DATA301-CALPOLY\n",
        "import pandas as pd\n",
        "import requests\n",
        "import numpy as np"
      ]
    },
    {
      "cell_type": "code",
      "source": [
        "seasons = ['2021-22', '2020-21', '2019-20', '2018-19', '2017-18', '2016-17', '2015-16', '2014-15', '2013-14', '2012-13', '2011-12', '2010-11']\n",
        "seasons_int = [2021-22, 2020-21, 2019-20, 2018-19, 2017-18, 2016-17, 2015-16, 2014-15, 2013-14, 2012-13, 2011-12, 2010-11]"
      ],
      "metadata": {
        "id": "QNJjYXeAd6T-"
      },
      "execution_count": null,
      "outputs": []
    },
    {
      "cell_type": "code",
      "source": [
        "api = \"https://stats.nba.com/stats/leagueLeaders?LeagueID=00&PerMode=Totals&Scope=S&Season=2021-22&SeasonType=Regular%20Season&StatCategory=PTS\""
      ],
      "metadata": {
        "id": "aLyAXVuVXBqn"
      },
      "execution_count": null,
      "outputs": []
    },
    {
      "cell_type": "code",
      "source": [
        "api_avg = \"https://stats.nba.com/stats/leagueLeaders?LeagueID=00&PerMode=PerGame&Scope=S&Season=2021-22&SeasonType=Regular%20Season&StatCategory=PTS\""
      ],
      "metadata": {
        "id": "dgjjcdKPPSGb"
      },
      "execution_count": null,
      "outputs": []
    },
    {
      "cell_type": "code",
      "source": [
        "def makeDf(i):\n",
        "  url = f'https://stats.nba.com/stats/leagueLeaders?LeagueID=00&PerMode=Totals&Scope=S&Season={i}&SeasonType=Regular%20Season&StatCategory=PTS'\n",
        "  response = requests.request(\"GET\", url)\n",
        "  response = response.json()\n",
        "  column = response[\"resultSet\"][\"headers\"]\n",
        "  players = response['resultSet']['rowSet']\n",
        "  df = pd.DataFrame(players, columns = column)\n",
        "  return df"
      ],
      "metadata": {
        "id": "2MJChnYlfHVH"
      },
      "execution_count": null,
      "outputs": []
    },
    {
      "cell_type": "code",
      "source": [
        "def toDF(url):\n",
        "  response = requests.request(\"GET\", url)\n",
        "  response = response.json()\n",
        "  column = response[\"resultSet\"][\"headers\"]\n",
        "  players = response['resultSet']['rowSet']\n",
        "  df = pd.DataFrame(players, columns = column)\n",
        "  return df"
      ],
      "metadata": {
        "id": "Q4yl0slBPi3s"
      },
      "execution_count": null,
      "outputs": []
    },
    {
      "cell_type": "code",
      "source": [
        "# keys: season # value : dataframe\n",
        "player_data = {}\n",
        "for i in range(len(seasons_int)):\n",
        "  player_data[seasons[i]] = makeDf(seasons[i])"
      ],
      "metadata": {
        "id": "bMZfS-i6TIOt"
      },
      "execution_count": null,
      "outputs": []
    },
    {
      "cell_type": "code",
      "source": [
        "df_avg = toDF(api_avg)\n",
        "df_total = player_data['2021-22']"
      ],
      "metadata": {
        "id": "R56FWoNSPyQn"
      },
      "execution_count": null,
      "outputs": []
    },
    {
      "cell_type": "code",
      "source": [
        "whole_df = df_avg.merge(df_total, on=\"PLAYER_ID\")\n",
        "## COMBINE DATASET X ATTRIBUTES - AVERAGES\n",
        "## Y ATTRIBUTES - TOTALS"
      ],
      "metadata": {
        "id": "VzzNYuXYSYPF"
      },
      "execution_count": null,
      "outputs": []
    },
    {
      "cell_type": "code",
      "source": [
        "all_stars = [\"Kevin Durant\", \"Joel Embiid\", \"Ja Morant\", \"Jayson Tatum\", \"Andrew Wiggins\", \"Trae Young\", \"LaMelo Ball\", \"Devin Booker\", \"Rudy Gobert\", \"Zach Lavine\", \"Khris Middleton\", \"Dejounte Murray\", \"Karl-Anthony Towns\", \"Draymond Green\", \"LeBron James\",\"Giannis Antetokounmpo\", \"Stephen Curry\", \"DeMar DeRozan\", \"Nikola Jokic\", \"Jarrett Allen\", \"Jimmy Butler\", \"Luka Doncic\", \"Darius Garland\", \"James Harder\", \"Donovan Mitchell\", \"Chris Paul\", \"Fred VanVleet\" ]"
      ],
      "metadata": {
        "id": "sPQ2ENgSZT_-"
      },
      "execution_count": null,
      "outputs": []
    },
    {
      "cell_type": "code",
      "source": [
        "## apply all star category\n",
        "def checkALLSTAR(row):\n",
        "  if row[\"PLAYER_x\"] in all_stars:\n",
        "    val = 1\n",
        "  else:\n",
        "    val = 0\n",
        "  return val"
      ],
      "metadata": {
        "id": "HpvEAmZmadZT"
      },
      "execution_count": null,
      "outputs": []
    },
    {
      "cell_type": "code",
      "source": [
        "# CREATED CSV FILES SO THAT I DO NOT NEED TO REQUEST API\n",
        "# player_data['2021-22'].to_csv(f'player_totals_2122.csv', index = False)"
      ],
      "metadata": {
        "id": "E9WpUvt0bvJO"
      },
      "execution_count": null,
      "outputs": []
    },
    {
      "cell_type": "code",
      "source": [
        "X_train_FG_PCT = whole_df[['FG_PCT_x', 'MIN_y']]\n",
        "X_train_FG3 = whole_df[[\"FG3_PCT_x\", \"MIN_y\"]]\n",
        "X_train_pts = whole_df[[\"PTS_x\", \"MIN_y\"]]\n",
        "X_train_ast = whole_df[[\"AST_x\", \"MIN_y\"]]\n",
        "X_train_reb = whole_df[[\"REB_x\", \"MIN_y\"]]\n",
        "off_labels = ['FG_PCT_x', \"FG3_PCT_x\", \"PTS_x\",\"AST_x\",\"REB_x\"]\n",
        "offensive_stats_train = [X_train_FG_PCT, X_train_FG3, X_train_pts, X_train_ast, X_train_reb]"
      ],
      "metadata": {
        "id": "fC7aImYJAs1n"
      },
      "execution_count": null,
      "outputs": []
    },
    {
      "cell_type": "code",
      "source": [
        "whole_df[[\"PTS_x\", \"AST_x\", \"REB_x\", \"MIN_y\"]].corr()"
      ],
      "metadata": {
        "colab": {
          "base_uri": "https://localhost:8080/",
          "height": 175
        },
        "id": "AHvfbaGOLXQl",
        "outputId": "ae7c1aef-b170-4aaa-bc16-1866e3c2db8e"
      },
      "execution_count": null,
      "outputs": [
        {
          "output_type": "execute_result",
          "data": {
            "text/plain": [
              "          PTS_x     AST_x     REB_x     MIN_y\n",
              "PTS_x  1.000000  0.661280  0.445943  0.765269\n",
              "AST_x  0.661280  1.000000  0.177784  0.556051\n",
              "REB_x  0.445943  0.177784  1.000000  0.400256\n",
              "MIN_y  0.765269  0.556051  0.400256  1.000000"
            ],
            "text/html": [
              "\n",
              "  <div id=\"df-d8d5a4ca-c3cf-48a3-adf2-41d7171c2f12\">\n",
              "    <div class=\"colab-df-container\">\n",
              "      <div>\n",
              "<style scoped>\n",
              "    .dataframe tbody tr th:only-of-type {\n",
              "        vertical-align: middle;\n",
              "    }\n",
              "\n",
              "    .dataframe tbody tr th {\n",
              "        vertical-align: top;\n",
              "    }\n",
              "\n",
              "    .dataframe thead th {\n",
              "        text-align: right;\n",
              "    }\n",
              "</style>\n",
              "<table border=\"1\" class=\"dataframe\">\n",
              "  <thead>\n",
              "    <tr style=\"text-align: right;\">\n",
              "      <th></th>\n",
              "      <th>PTS_x</th>\n",
              "      <th>AST_x</th>\n",
              "      <th>REB_x</th>\n",
              "      <th>MIN_y</th>\n",
              "    </tr>\n",
              "  </thead>\n",
              "  <tbody>\n",
              "    <tr>\n",
              "      <th>PTS_x</th>\n",
              "      <td>1.000000</td>\n",
              "      <td>0.661280</td>\n",
              "      <td>0.445943</td>\n",
              "      <td>0.765269</td>\n",
              "    </tr>\n",
              "    <tr>\n",
              "      <th>AST_x</th>\n",
              "      <td>0.661280</td>\n",
              "      <td>1.000000</td>\n",
              "      <td>0.177784</td>\n",
              "      <td>0.556051</td>\n",
              "    </tr>\n",
              "    <tr>\n",
              "      <th>REB_x</th>\n",
              "      <td>0.445943</td>\n",
              "      <td>0.177784</td>\n",
              "      <td>1.000000</td>\n",
              "      <td>0.400256</td>\n",
              "    </tr>\n",
              "    <tr>\n",
              "      <th>MIN_y</th>\n",
              "      <td>0.765269</td>\n",
              "      <td>0.556051</td>\n",
              "      <td>0.400256</td>\n",
              "      <td>1.000000</td>\n",
              "    </tr>\n",
              "  </tbody>\n",
              "</table>\n",
              "</div>\n",
              "      <button class=\"colab-df-convert\" onclick=\"convertToInteractive('df-d8d5a4ca-c3cf-48a3-adf2-41d7171c2f12')\"\n",
              "              title=\"Convert this dataframe to an interactive table.\"\n",
              "              style=\"display:none;\">\n",
              "        \n",
              "  <svg xmlns=\"http://www.w3.org/2000/svg\" height=\"24px\"viewBox=\"0 0 24 24\"\n",
              "       width=\"24px\">\n",
              "    <path d=\"M0 0h24v24H0V0z\" fill=\"none\"/>\n",
              "    <path d=\"M18.56 5.44l.94 2.06.94-2.06 2.06-.94-2.06-.94-.94-2.06-.94 2.06-2.06.94zm-11 1L8.5 8.5l.94-2.06 2.06-.94-2.06-.94L8.5 2.5l-.94 2.06-2.06.94zm10 10l.94 2.06.94-2.06 2.06-.94-2.06-.94-.94-2.06-.94 2.06-2.06.94z\"/><path d=\"M17.41 7.96l-1.37-1.37c-.4-.4-.92-.59-1.43-.59-.52 0-1.04.2-1.43.59L10.3 9.45l-7.72 7.72c-.78.78-.78 2.05 0 2.83L4 21.41c.39.39.9.59 1.41.59.51 0 1.02-.2 1.41-.59l7.78-7.78 2.81-2.81c.8-.78.8-2.07 0-2.86zM5.41 20L4 18.59l7.72-7.72 1.47 1.35L5.41 20z\"/>\n",
              "  </svg>\n",
              "      </button>\n",
              "      \n",
              "  <style>\n",
              "    .colab-df-container {\n",
              "      display:flex;\n",
              "      flex-wrap:wrap;\n",
              "      gap: 12px;\n",
              "    }\n",
              "\n",
              "    .colab-df-convert {\n",
              "      background-color: #E8F0FE;\n",
              "      border: none;\n",
              "      border-radius: 50%;\n",
              "      cursor: pointer;\n",
              "      display: none;\n",
              "      fill: #1967D2;\n",
              "      height: 32px;\n",
              "      padding: 0 0 0 0;\n",
              "      width: 32px;\n",
              "    }\n",
              "\n",
              "    .colab-df-convert:hover {\n",
              "      background-color: #E2EBFA;\n",
              "      box-shadow: 0px 1px 2px rgba(60, 64, 67, 0.3), 0px 1px 3px 1px rgba(60, 64, 67, 0.15);\n",
              "      fill: #174EA6;\n",
              "    }\n",
              "\n",
              "    [theme=dark] .colab-df-convert {\n",
              "      background-color: #3B4455;\n",
              "      fill: #D2E3FC;\n",
              "    }\n",
              "\n",
              "    [theme=dark] .colab-df-convert:hover {\n",
              "      background-color: #434B5C;\n",
              "      box-shadow: 0px 1px 3px 1px rgba(0, 0, 0, 0.15);\n",
              "      filter: drop-shadow(0px 1px 2px rgba(0, 0, 0, 0.3));\n",
              "      fill: #FFFFFF;\n",
              "    }\n",
              "  </style>\n",
              "\n",
              "      <script>\n",
              "        const buttonEl =\n",
              "          document.querySelector('#df-d8d5a4ca-c3cf-48a3-adf2-41d7171c2f12 button.colab-df-convert');\n",
              "        buttonEl.style.display =\n",
              "          google.colab.kernel.accessAllowed ? 'block' : 'none';\n",
              "\n",
              "        async function convertToInteractive(key) {\n",
              "          const element = document.querySelector('#df-d8d5a4ca-c3cf-48a3-adf2-41d7171c2f12');\n",
              "          const dataTable =\n",
              "            await google.colab.kernel.invokeFunction('convertToInteractive',\n",
              "                                                     [key], {});\n",
              "          if (!dataTable) return;\n",
              "\n",
              "          const docLinkHtml = 'Like what you see? Visit the ' +\n",
              "            '<a target=\"_blank\" href=https://colab.research.google.com/notebooks/data_table.ipynb>data table notebook</a>'\n",
              "            + ' to learn more about interactive tables.';\n",
              "          element.innerHTML = '';\n",
              "          dataTable['output_type'] = 'display_data';\n",
              "          await google.colab.output.renderOutput(dataTable, element);\n",
              "          const docLink = document.createElement('div');\n",
              "          docLink.innerHTML = docLinkHtml;\n",
              "          element.appendChild(docLink);\n",
              "        }\n",
              "      </script>\n",
              "    </div>\n",
              "  </div>\n",
              "  "
            ]
          },
          "metadata": {},
          "execution_count": 14
        }
      ]
    },
    {
      "cell_type": "code",
      "source": [
        "from sklearn.cluster import KMeans\n",
        "from sklearn.preprocessing import StandardScaler\n",
        "\n",
        "def standardKcluterPlot(train_data_lst, y_labels, Kmeans):\n",
        "  for i in range(len(train_data_lst)):\n",
        "    scaler = StandardScaler()\n",
        "    scaler.fit(train_data_lst[i])\n",
        "    standardize_train_data = scaler.transform(train_data_lst[i])\n",
        "    model = Kmeans(n_clusters=3)\n",
        "    model.fit(standardize_train_data)\n",
        "    centroids = model.cluster_centers_\n",
        "    clusters = model.labels_\n",
        "    clusters = pd.Series(clusters).map({\n",
        "      0: \"r\",\n",
        "      1: \"b\",\n",
        "      2: \"g\",\n",
        "      3:\"y\",\n",
        "      4:\"c\"\n",
        "      })\n",
        "    train_data_lst[i].plot.scatter(x=\"MIN_y\", y=y_labels[i], \n",
        "                     c=clusters, marker=\"x\", alpha=.5)\n",
        "    "
      ],
      "metadata": {
        "id": "BuNYEOFGJO-n"
      },
      "execution_count": null,
      "outputs": []
    },
    {
      "cell_type": "code",
      "source": [
        "# go through each stat and min \n",
        "# go through and see which type of player in each cluster "
      ],
      "metadata": {
        "id": "CRcDQ-0breOv"
      },
      "execution_count": null,
      "outputs": []
    },
    {
      "cell_type": "code",
      "source": [
        "standardKcluterPlot(offensive_stats_train,off_labels, KMeans)"
      ],
      "metadata": {
        "colab": {
          "base_uri": "https://localhost:8080/",
          "height": 1000
        },
        "id": "zkkOGmP8G-dX",
        "outputId": "8846f079-7024-48b9-97e3-0829b060cf03"
      },
      "execution_count": null,
      "outputs": [
        {
          "output_type": "stream",
          "name": "stderr",
          "text": [
            "/usr/local/lib/python3.9/dist-packages/sklearn/cluster/_kmeans.py:870: FutureWarning: The default value of `n_init` will change from 10 to 'auto' in 1.4. Set the value of `n_init` explicitly to suppress the warning\n",
            "  warnings.warn(\n",
            "/usr/local/lib/python3.9/dist-packages/pandas/plotting/_matplotlib/core.py:1114: UserWarning: No data for colormapping provided via 'c'. Parameters 'cmap' will be ignored\n",
            "  scatter = ax.scatter(\n",
            "/usr/local/lib/python3.9/dist-packages/sklearn/cluster/_kmeans.py:870: FutureWarning: The default value of `n_init` will change from 10 to 'auto' in 1.4. Set the value of `n_init` explicitly to suppress the warning\n",
            "  warnings.warn(\n",
            "/usr/local/lib/python3.9/dist-packages/pandas/plotting/_matplotlib/core.py:1114: UserWarning: No data for colormapping provided via 'c'. Parameters 'cmap' will be ignored\n",
            "  scatter = ax.scatter(\n",
            "/usr/local/lib/python3.9/dist-packages/sklearn/cluster/_kmeans.py:870: FutureWarning: The default value of `n_init` will change from 10 to 'auto' in 1.4. Set the value of `n_init` explicitly to suppress the warning\n",
            "  warnings.warn(\n",
            "/usr/local/lib/python3.9/dist-packages/pandas/plotting/_matplotlib/core.py:1114: UserWarning: No data for colormapping provided via 'c'. Parameters 'cmap' will be ignored\n",
            "  scatter = ax.scatter(\n",
            "/usr/local/lib/python3.9/dist-packages/sklearn/cluster/_kmeans.py:870: FutureWarning: The default value of `n_init` will change from 10 to 'auto' in 1.4. Set the value of `n_init` explicitly to suppress the warning\n",
            "  warnings.warn(\n",
            "/usr/local/lib/python3.9/dist-packages/pandas/plotting/_matplotlib/core.py:1114: UserWarning: No data for colormapping provided via 'c'. Parameters 'cmap' will be ignored\n",
            "  scatter = ax.scatter(\n",
            "/usr/local/lib/python3.9/dist-packages/sklearn/cluster/_kmeans.py:870: FutureWarning: The default value of `n_init` will change from 10 to 'auto' in 1.4. Set the value of `n_init` explicitly to suppress the warning\n",
            "  warnings.warn(\n",
            "/usr/local/lib/python3.9/dist-packages/pandas/plotting/_matplotlib/core.py:1114: UserWarning: No data for colormapping provided via 'c'. Parameters 'cmap' will be ignored\n",
            "  scatter = ax.scatter(\n"
          ]
        },
        {
          "output_type": "display_data",
          "data": {
            "text/plain": [
              "<Figure size 432x288 with 1 Axes>"
            ],
            "image/png": "[encoded data removed]"
          },
          "metadata": {
            "needs_background": "light"
          }
        },
        {
          "output_type": "display_data",
          "data": {
            "text/plain": [
              "<Figure size 432x288 with 1 Axes>"
            ],
            "image/png": "[encoded data removed]"
          },
          "metadata": {
            "needs_background": "light"
          }
        },
        {
          "output_type": "display_data",
          "data": {
            "text/plain": [
              "<Figure size 432x288 with 1 Axes>"
            ],
            "image/png": "[encoded data removed]"
          },
          "metadata": {
            "needs_background": "light"
          }
        },
        {
          "output_type": "display_data",
          "data": {
            "text/plain": [
              "<Figure size 432x288 with 1 Axes>"
            ],
            "image/png": "[encoded data removed]"
          },
          "metadata": {
            "needs_background": "light"
          }
        },
        {
          "output_type": "display_data",
          "data": {
            "text/plain": [
              "<Figure size 432x288 with 1 Axes>"
            ],
            "image/png": "[encoded data removed]"
          },
          "metadata": {
            "needs_background": "light"
          }
        }
      ]
    },
    {
      "cell_type": "code",
      "source": [
        "# Finding alternate all stars based of stats utilizing k means classfication"
      ],
      "metadata": {
        "id": "NxGeuguDrbwe"
      },
      "execution_count": null,
      "outputs": []
    },
    {
      "cell_type": "code",
      "source": [
        "from sklearn.preprocessing import StandardScaler\n",
        "from sklearn.neighbors import KNeighborsClassifier\n",
        "from sklearn.pipeline import make_pipeline"
      ],
      "metadata": {
        "id": "2izx1VOUr8E8"
      },
      "execution_count": null,
      "outputs": []
    },
    {
      "cell_type": "code",
      "source": [
        "whole_df[\"ALLSTAR\"] = whole_df.apply(checkALLSTAR, axis=1)"
      ],
      "metadata": {
        "id": "9Tr2J1_--Ken"
      },
      "execution_count": null,
      "outputs": []
    },
    {
      "cell_type": "code",
      "source": [
        "training_x = whole_df[[\"PTS_x\", \"AST_x\", \"REB_x\", \"STL_x\", \"EFF_x\", \"BLK_x\", \"FG_PCT_x\"]]\n",
        "training_y = whole_df[[\"ALLSTAR\"]]"
      ],
      "metadata": {
        "id": "ERc1jkz5siHK"
      },
      "execution_count": null,
      "outputs": []
    },
    {
      "cell_type": "code",
      "source": [
        "pipeline = make_pipeline(\n",
        "    StandardScaler(),\n",
        "    KNeighborsClassifier(n_neighbors=5)\n",
        ")\n",
        "pipeline.fit(training_x, training_y)\n",
        "# someone with these stats\n",
        "pipeline.predict_proba([[20.1, 5, 3, 2, 10, 1, 0.4 ]])"
      ],
      "metadata": {
        "colab": {
          "base_uri": "https://localhost:8080/"
        },
        "id": "wbl8uX5FsHJs",
        "outputId": "ec7544d2-2e99-4206-dc11-a63fc1ec71a2"
      },
      "execution_count": null,
      "outputs": [
        {
          "output_type": "stream",
          "name": "stderr",
          "text": [
            "/usr/local/lib/python3.9/dist-packages/sklearn/neighbors/_classification.py:215: DataConversionWarning: A column-vector y was passed when a 1d array was expected. Please change the shape of y to (n_samples,), for example using ravel().\n",
            "  return self._fit(X, y)\n",
            "/usr/local/lib/python3.9/dist-packages/sklearn/base.py:439: UserWarning: X does not have valid feature names, but StandardScaler was fitted with feature names\n",
            "  warnings.warn(\n"
          ]
        },
        {
          "output_type": "execute_result",
          "data": {
            "text/plain": [
              "array([[0.8, 0.2]])"
            ]
          },
          "metadata": {},
          "execution_count": 22
        }
      ]
    },
    {
      "cell_type": "code",
      "source": [
        "all_star_df = whole_df[whole_df[\"ALLSTAR\"] == 1]"
      ],
      "metadata": {
        "id": "Nf1iP0p7w_Iw"
      },
      "execution_count": null,
      "outputs": []
    },
    {
      "cell_type": "code",
      "source": [
        "all_star_df\n",
        "asdf_train = all_star_df[[\"PTS_x\", \"AST_x\", \"REB_x\", \"STL_x\", \"EFF_x\", \"BLK_x\", \"FG_PCT_x\"]]\n",
        "asdf_count = len(asdf_train.index)"
      ],
      "metadata": {
        "id": "Xffg1PIixL_0"
      },
      "execution_count": null,
      "outputs": []
    },
    {
      "cell_type": "code",
      "source": [
        "X_train_sc = (training_x - training_x.mean()) / training_x.std()"
      ],
      "metadata": {
        "id": "9kZ0CnJB0rrO"
      },
      "execution_count": null,
      "outputs": []
    },
    {
      "cell_type": "code",
      "source": [
        "import numpy as np"
      ],
      "metadata": {
        "id": "gN2AibD61P1e"
      },
      "execution_count": null,
      "outputs": []
    },
    {
      "cell_type": "code",
      "source": [
        "for i in range(asdf_count):\n",
        "  cur = asdf_train.iloc[i]\n",
        "  x_new_sc = (cur - training_x.mean()) / training_x.std()\n",
        "  dists = np.sqrt(((X_train_sc - x_new_sc) ** 2).sum(axis=1))\n",
        "  dists_sorted = dists.sort_values()\n",
        "  print(dists_sorted.index[:10])"
      ],
      "metadata": {
        "colab": {
          "base_uri": "https://localhost:8080/"
        },
        "id": "rBTLtqSsz0gm",
        "outputId": "f884173e-0705-47af-a978-18401801978d"
      },
      "execution_count": null,
      "outputs": [
        {
          "output_type": "stream",
          "name": "stdout",
          "text": [
            "Int64Index([0, 1, 10, 6, 5, 38, 14, 2, 36, 37], dtype='int64')\n",
            "Int64Index([1, 0, 10, 5, 2, 14, 6, 28, 38, 37], dtype='int64')\n",
            "Int64Index([2, 16, 14, 9, 6, 23, 3, 30, 19, 7], dtype='int64')\n",
            "Int64Index([3, 17, 9, 4, 16, 2, 7, 13, 34, 30], dtype='int64')\n",
            "Int64Index([4, 7, 11, 12, 6, 15, 13, 9, 25, 8], dtype='int64')\n",
            "Int64Index([5, 1, 0, 2, 28, 10, 14, 19, 16, 6], dtype='int64')\n",
            "Int64Index([6, 14, 7, 12, 4, 22, 9, 10, 24, 15], dtype='int64')\n",
            "Int64Index([7, 4, 9, 15, 13, 12, 6, 8, 25, 11], dtype='int64')\n",
            "Int64Index([8, 9, 13, 7, 27, 25, 15, 18, 21, 12], dtype='int64')\n",
            "Int64Index([9, 7, 8, 13, 25, 15, 23, 27, 21, 4], dtype='int64')\n",
            "Int64Index([10, 38, 36, 6, 22, 14, 0, 37, 1, 28], dtype='int64')\n",
            "Int64Index([17, 34, 32, 13, 9, 79, 23, 25, 8, 3], dtype='int64')\n",
            "Int64Index([19, 23, 68, 16, 32, 58, 21, 2, 9, 14], dtype='int64')\n",
            "Int64Index([21, 23, 32, 58, 8, 18, 9, 27, 25, 89], dtype='int64')\n",
            "Int64Index([23, 21, 32, 9, 58, 25, 19, 16, 30, 8], dtype='int64')\n",
            "Int64Index([25, 15, 27, 13, 12, 40, 9, 30, 57, 7], dtype='int64')\n",
            "Int64Index([43, 60, 33, 66, 87, 103, 94, 73, 67, 119], dtype='int64')\n",
            "Int64Index([56, 127, 102, 78, 161, 44, 169, 65, 37, 117], dtype='int64')\n",
            "Int64Index([68, 58, 19, 32, 23, 17, 21, 16, 79, 89], dtype='int64')\n"
          ]
        }
      ]
    },
    {
      "cell_type": "code",
      "source": [
        "# print alternate allstar\n",
        "print(\"Allstar: \" + all_star_df[\"PLAYER_x\"].loc[0] + \" REPLACEMENT: \" + whole_df[\"PLAYER_x\"].iloc[38])\n",
        "print(\"Allstar: \" + all_star_df[\"PLAYER_x\"].loc[1] + \" REPLACEMENT: \" + whole_df[\"PLAYER_x\"].iloc[28])\n",
        "print(\"Allstar: \" + all_star_df[\"PLAYER_x\"].loc[2] + \" REPLACEMENT: \" + whole_df[\"PLAYER_x\"].iloc[30])\n",
        "print(\"Allstar: \" + all_star_df[\"PLAYER_x\"].loc[3] + \" REPLACEMENT: \" + whole_df[\"PLAYER_x\"].iloc[34])\n",
        "print(\"Allstar: \" + all_star_df[\"PLAYER_x\"].loc[4] + \" REPLACEMENT: \" + whole_df[\"PLAYER_x\"].iloc[15])\n",
        "print(\"Allstar: \" + all_star_df[\"PLAYER_x\"].loc[5] + \" REPLACEMENT: \" + whole_df[\"PLAYER_x\"].iloc[28])\n",
        "print(\"Allstar: \" + all_star_df[\"PLAYER_x\"].loc[6] + \" REPLACEMENT: \" + whole_df[\"PLAYER_x\"].iloc[24])\n",
        "print(\"Allstar: \" + all_star_df[\"PLAYER_x\"].loc[7] + \" REPLACEMENT: \" + whole_df[\"PLAYER_x\"].iloc[25])\n",
        "print(\"Allstar: \" + all_star_df[\"PLAYER_x\"].loc[8] + \" REPLACEMENT: \" + whole_df[\"PLAYER_x\"].iloc[27])\n",
        "print(\"Allstar: \" + all_star_df[\"PLAYER_x\"].loc[9] + \" REPLACEMENT: \" + whole_df[\"PLAYER_x\"].iloc[27])\n",
        "print(\"Allstar: \" + all_star_df[\"PLAYER_x\"].loc[10] + \" REPLACEMENT: \" + whole_df[\"PLAYER_x\"].iloc[36])\n",
        "print(\"Allstar: \" + all_star_df[\"PLAYER_x\"].iloc[11] + \" REPLACEMENT: \" + whole_df[\"PLAYER_x\"].iloc[79])\n",
        "print(\"Allstar: \" + all_star_df[\"PLAYER_x\"].iloc[12] + \" REPLACEMENT: \" + whole_df[\"PLAYER_x\"].iloc[68])\n",
        "print(\"Allstar: \" + all_star_df[\"PLAYER_x\"].iloc[13] + \" REPLACEMENT: \" + whole_df[\"PLAYER_x\"].iloc[32])\n",
        "print(\"Allstar: \" + all_star_df[\"PLAYER_x\"].iloc[14] + \" REPLACEMENT: \" + whole_df[\"PLAYER_x\"].iloc[58])\n",
        "print(\"Allstar: \" + all_star_df[\"PLAYER_x\"].iloc[15] + \" REPLACEMENT: \" + whole_df[\"PLAYER_x\"].iloc[40])\n",
        "print(\"Allstar: \" + all_star_df[\"PLAYER_x\"].iloc[16] + \" REPLACEMENT: \" + whole_df[\"PLAYER_x\"].iloc[60])\n",
        "print(\"Allstar: \" + all_star_df[\"PLAYER_x\"].iloc[17] + \" REPLACEMENT: \" + whole_df[\"PLAYER_x\"].iloc[127])\n",
        "print(\"Allstar: \" + all_star_df[\"PLAYER_x\"].iloc[18] + \" REPLACEMENT: \" + whole_df[\"PLAYER_x\"].iloc[58])"
      ],
      "metadata": {
        "colab": {
          "base_uri": "https://localhost:8080/"
        },
        "id": "yR5sj1791hzJ",
        "outputId": "8ca3b9e8-eb55-459b-f304-71155fe881ff"
      },
      "execution_count": null,
      "outputs": [
        {
          "output_type": "stream",
          "name": "stdout",
          "text": [
            "Allstar: Joel Embiid REPLACEMENT: Nikola Vucevic\n",
            "Allstar: Giannis Antetokounmpo REPLACEMENT: Domantas Sabonis\n",
            "Allstar: Luka Doncic REPLACEMENT: Russell Westbrook\n",
            "Allstar: Trae Young REPLACEMENT: D'Angelo Russell\n",
            "Allstar: DeMar DeRozan REPLACEMENT: CJ McCollum\n",
            "Allstar: Nikola Jokic REPLACEMENT: Domantas Sabonis\n",
            "Allstar: Jayson Tatum REPLACEMENT: Julius Randle\n",
            "Allstar: Devin Booker REPLACEMENT: Khris Middleton\n",
            "Allstar: Donovan Mitchell REPLACEMENT: Terry Rozier\n",
            "Allstar: Stephen Curry REPLACEMENT: Terry Rozier\n",
            "Allstar: Karl-Anthony Towns REPLACEMENT: Christian Wood\n",
            "Allstar: Darius Garland REPLACEMENT: Kyle Lowry\n",
            "Allstar: Dejounte Murray REPLACEMENT: Chris Paul\n",
            "Allstar: Fred VanVleet REPLACEMENT: Jrue Holiday\n",
            "Allstar: LaMelo Ball REPLACEMENT: Tyrese Haliburton\n",
            "Allstar: Khris Middleton REPLACEMENT: Cade Cunningham\n",
            "Allstar: Andrew Wiggins REPLACEMENT: Franz Wagner\n",
            "Allstar: Rudy Gobert REPLACEMENT: Robert Williams III\n",
            "Allstar: Chris Paul REPLACEMENT: Tyrese Haliburton\n"
          ]
        }
      ]
    },
    {
      "cell_type": "code",
      "source": [
        "# get df of alternate allstars\n",
        "alt_allstars_df = whole_df.iloc[[38, 28, 30, 34, 15, 28, 24, 25, 27, 36, 79, 68, 32, 58, 40, 60, 127, 58]]\n",
        "alt_allstars_df"
      ],
      "metadata": {
        "colab": {
          "base_uri": "https://localhost:8080/",
          "height": 643
        },
        "id": "pucZbKWR7rGV",
        "outputId": "fa578b0e-e383-4c99-824d-289bf63e7a8a"
      },
      "execution_count": null,
      "outputs": [
        {
          "output_type": "execute_result",
          "data": {
            "text/plain": [
              "     PLAYER_ID  RANK_x             PLAYER_x   TEAM_ID_x TEAM_x  GP_x  MIN_x  \\\n",
              "38      202696      39       Nikola Vucevic  1610612741    CHI    73   33.1   \n",
              "28     1627734      29     Domantas Sabonis  1610612758    SAC    62   34.5   \n",
              "30      201566      31    Russell Westbrook  1610612747    LAL    78   34.3   \n",
              "34     1626156      35     D'Angelo Russell  1610612750    MIN    65   32.0   \n",
              "15      203468      16          CJ McCollum  1610612740    NOP    62   34.6   \n",
              "28     1627734      29     Domantas Sabonis  1610612758    SAC    62   34.5   \n",
              "24      203944      25        Julius Randle  1610612752    NYK    72   35.3   \n",
              "25      203114      26      Khris Middleton  1610612749    MIL    66   32.4   \n",
              "27     1626179      28         Terry Rozier  1610612766    CHA    73   33.7   \n",
              "36     1626174      37       Christian Wood  1610612745    HOU    68   30.8   \n",
              "79      200768      80           Kyle Lowry  1610612748    MIA    63   33.9   \n",
              "68      101108      69           Chris Paul  1610612756    PHX    65   32.9   \n",
              "32      201950      33         Jrue Holiday  1610612749    MIL    67   32.9   \n",
              "58     1630169      59    Tyrese Haliburton  1610612754    IND    77   35.0   \n",
              "40     1630595      41      Cade Cunningham  1610612765    DET    64   32.6   \n",
              "60     1630532      61         Franz Wagner  1610612753    ORL    79   30.7   \n",
              "127    1629057     128  Robert Williams III  1610612738    BOS    61   29.6   \n",
              "58     1630169      59    Tyrese Haliburton  1610612754    IND    77   35.0   \n",
              "\n",
              "     FGM_x  FGA_x  FG_PCT_x  ...  AST_y  STL_y  BLK_y  TOV_y   PF  PTS_y  \\\n",
              "38     7.5   15.8     0.473  ...    236     70     71    136  181   1288   \n",
              "28     7.1   12.5     0.573  ...    323     59     27    195  203   1171   \n",
              "30     7.0   15.8     0.444  ...    550     75     20    295  235   1441   \n",
              "34     6.2   15.0     0.411  ...    460     62     22    165  130   1176   \n",
              "15     8.6   18.8     0.460  ...    315     70     22    127  121   1370   \n",
              "28     7.1   12.5     0.573  ...    323     59     27    195  203   1171   \n",
              "24     7.1   17.3     0.411  ...    370     53     39    245  205   1447   \n",
              "25     6.8   15.5     0.443  ...    358     76     18    190  160   1325   \n",
              "27     7.1   16.0     0.444  ...    326     93     25     96  119   1408   \n",
              "36     6.5   12.9     0.501  ...    155     54     65    126  171   1218   \n",
              "79     4.4   10.0     0.440  ...    474     67     17    168  177    844   \n",
              "68     5.6   11.3     0.493  ...    702    121     20    153  134    958   \n",
              "32     7.1   14.2     0.501  ...    457    108     29    183  133   1225   \n",
              "58     5.6   11.8     0.473  ...    628    134     49    199  121   1181   \n",
              "40     6.7   16.1     0.416  ...    356     78     43    234  200   1114   \n",
              "60     5.8   12.3     0.468  ...    231     68     34    119  164   1197   \n",
              "127    4.4    6.0     0.736  ...    121     56    134     63  137    607   \n",
              "58     5.6   11.8     0.473  ...    628    134     49    199  121   1181   \n",
              "\n",
              "     EFF_y  AST_TOV  STL_TOV  ALLSTAR  \n",
              "38    1696     1.74     0.52        0  \n",
              "28    1721     1.66     0.30        0  \n",
              "30    1553     1.86     0.25        0  \n",
              "34    1155     2.79     0.38        0  \n",
              "15    1237     2.48     0.55        0  \n",
              "28    1721     1.66     0.30        0  \n",
              "24    1548     1.51     0.22        0  \n",
              "25    1342     1.88     0.40        1  \n",
              "27    1396     3.40     0.97        0  \n",
              "36    1489     1.23     0.43        0  \n",
              "79    1139     2.82     0.40        0  \n",
              "68    1525     4.59     0.79        1  \n",
              "32    1418     2.50     0.59        0  \n",
              "58    1595     3.16     0.67        0  \n",
              "40    1083     1.52     0.33        0  \n",
              "60    1218     1.94     0.57        0  \n",
              "127   1321     1.92     0.89        0  \n",
              "58    1595     3.16     0.67        0  \n",
              "\n",
              "[18 rows x 53 columns]"
            ],
            "text/html": [
              "\n",
              "  <div id=\"df-3ab3464d-3474-4b41-997c-d9c916655eb9\">\n",
              "    <div class=\"colab-df-container\">\n",
              "      <div>\n",
              "<style scoped>\n",
              "    .dataframe tbody tr th:only-of-type {\n",
              "        vertical-align: middle;\n",
              "    }\n",
              "\n",
              "    .dataframe tbody tr th {\n",
              "        vertical-align: top;\n",
              "    }\n",
              "\n",
              "    .dataframe thead th {\n",
              "        text-align: right;\n",
              "    }\n",
              "</style>\n",
              "<table border=\"1\" class=\"dataframe\">\n",
              "  <thead>\n",
              "    <tr style=\"text-align: right;\">\n",
              "      <th></th>\n",
              "      <th>PLAYER_ID</th>\n",
              "      <th>RANK_x</th>\n",
              "      <th>PLAYER_x</th>\n",
              "      <th>TEAM_ID_x</th>\n",
              "      <th>TEAM_x</th>\n",
              "      <th>GP_x</th>\n",
              "      <th>MIN_x</th>\n",
              "      <th>FGM_x</th>\n",
              "      <th>FGA_x</th>\n",
              "      <th>FG_PCT_x</th>\n",
              "      <th>...</th>\n",
              "      <th>AST_y</th>\n",
              "      <th>STL_y</th>\n",
              "      <th>BLK_y</th>\n",
              "      <th>TOV_y</th>\n",
              "      <th>PF</th>\n",
              "      <th>PTS_y</th>\n",
              "      <th>EFF_y</th>\n",
              "      <th>AST_TOV</th>\n",
              "      <th>STL_TOV</th>\n",
              "      <th>ALLSTAR</th>\n",
              "    </tr>\n",
              "  </thead>\n",
              "  <tbody>\n",
              "    <tr>\n",
              "      <th>38</th>\n",
              "      <td>202696</td>\n",
              "      <td>39</td>\n",
              "      <td>Nikola Vucevic</td>\n",
              "      <td>1610612741</td>\n",
              "      <td>CHI</td>\n",
              "      <td>73</td>\n",
              "      <td>33.1</td>\n",
              "      <td>7.5</td>\n",
              "      <td>15.8</td>\n",
              "      <td>0.473</td>\n",
              "      <td>...</td>\n",
              "      <td>236</td>\n",
              "      <td>70</td>\n",
              "      <td>71</td>\n",
              "      <td>136</td>\n",
              "      <td>181</td>\n",
              "      <td>1288</td>\n",
              "      <td>1696</td>\n",
              "      <td>1.74</td>\n",
              "      <td>0.52</td>\n",
              "      <td>0</td>\n",
              "    </tr>\n",
              "    <tr>\n",
              "      <th>28</th>\n",
              "      <td>1627734</td>\n",
              "      <td>29</td>\n",
              "      <td>Domantas Sabonis</td>\n",
              "      <td>1610612758</td>\n",
              "      <td>SAC</td>\n",
              "      <td>62</td>\n",
              "      <td>34.5</td>\n",
              "      <td>7.1</td>\n",
              "      <td>12.5</td>\n",
              "      <td>0.573</td>\n",
              "      <td>...</td>\n",
              "      <td>323</td>\n",
              "      <td>59</td>\n",
              "      <td>27</td>\n",
              "      <td>195</td>\n",
              "      <td>203</td>\n",
              "      <td>1171</td>\n",
              "      <td>1721</td>\n",
              "      <td>1.66</td>\n",
              "      <td>0.30</td>\n",
              "      <td>0</td>\n",
              "    </tr>\n",
              "    <tr>\n",
              "      <th>30</th>\n",
              "      <td>201566</td>\n",
              "      <td>31</td>\n",
              "      <td>Russell Westbrook</td>\n",
              "      <td>1610612747</td>\n",
              "      <td>LAL</td>\n",
              "      <td>78</td>\n",
              "      <td>34.3</td>\n",
              "      <td>7.0</td>\n",
              "      <td>15.8</td>\n",
              "      <td>0.444</td>\n",
              "      <td>...</td>\n",
              "      <td>550</td>\n",
              "      <td>75</td>\n",
              "      <td>20</td>\n",
              "      <td>295</td>\n",
              "      <td>235</td>\n",
              "      <td>1441</td>\n",
              "      <td>1553</td>\n",
              "      <td>1.86</td>\n",
              "      <td>0.25</td>\n",
              "      <td>0</td>\n",
              "    </tr>\n",
              "    <tr>\n",
              "      <th>34</th>\n",
              "      <td>1626156</td>\n",
              "      <td>35</td>\n",
              "      <td>D'Angelo Russell</td>\n",
              "      <td>1610612750</td>\n",
              "      <td>MIN</td>\n",
              "      <td>65</td>\n",
              "      <td>32.0</td>\n",
              "      <td>6.2</td>\n",
              "      <td>15.0</td>\n",
              "      <td>0.411</td>\n",
              "      <td>...</td>\n",
              "      <td>460</td>\n",
              "      <td>62</td>\n",
              "      <td>22</td>\n",
              "      <td>165</td>\n",
              "      <td>130</td>\n",
              "      <td>1176</td>\n",
              "      <td>1155</td>\n",
              "      <td>2.79</td>\n",
              "      <td>0.38</td>\n",
              "      <td>0</td>\n",
              "    </tr>\n",
              "    <tr>\n",
              "      <th>15</th>\n",
              "      <td>203468</td>\n",
              "      <td>16</td>\n",
              "      <td>CJ McCollum</td>\n",
              "      <td>1610612740</td>\n",
              "      <td>NOP</td>\n",
              "      <td>62</td>\n",
              "      <td>34.6</td>\n",
              "      <td>8.6</td>\n",
              "      <td>18.8</td>\n",
              "      <td>0.460</td>\n",
              "      <td>...</td>\n",
              "      <td>315</td>\n",
              "      <td>70</td>\n",
              "      <td>22</td>\n",
              "      <td>127</td>\n",
              "      <td>121</td>\n",
              "      <td>1370</td>\n",
              "      <td>1237</td>\n",
              "      <td>2.48</td>\n",
              "      <td>0.55</td>\n",
              "      <td>0</td>\n",
              "    </tr>\n",
              "    <tr>\n",
              "      <th>28</th>\n",
              "      <td>1627734</td>\n",
              "      <td>29</td>\n",
              "      <td>Domantas Sabonis</td>\n",
              "      <td>1610612758</td>\n",
              "      <td>SAC</td>\n",
              "      <td>62</td>\n",
              "      <td>34.5</td>\n",
              "      <td>7.1</td>\n",
              "      <td>12.5</td>\n",
              "      <td>0.573</td>\n",
              "      <td>...</td>\n",
              "      <td>323</td>\n",
              "      <td>59</td>\n",
              "      <td>27</td>\n",
              "      <td>195</td>\n",
              "      <td>203</td>\n",
              "      <td>1171</td>\n",
              "      <td>1721</td>\n",
              "      <td>1.66</td>\n",
              "      <td>0.30</td>\n",
              "      <td>0</td>\n",
              "    </tr>\n",
              "    <tr>\n",
              "      <th>24</th>\n",
              "      <td>203944</td>\n",
              "      <td>25</td>\n",
              "      <td>Julius Randle</td>\n",
              "      <td>1610612752</td>\n",
              "      <td>NYK</td>\n",
              "      <td>72</td>\n",
              "      <td>35.3</td>\n",
              "      <td>7.1</td>\n",
              "      <td>17.3</td>\n",
              "      <td>0.411</td>\n",
              "      <td>...</td>\n",
              "      <td>370</td>\n",
              "      <td>53</td>\n",
              "      <td>39</td>\n",
              "      <td>245</td>\n",
              "      <td>205</td>\n",
              "      <td>1447</td>\n",
              "      <td>1548</td>\n",
              "      <td>1.51</td>\n",
              "      <td>0.22</td>\n",
              "      <td>0</td>\n",
              "    </tr>\n",
              "    <tr>\n",
              "      <th>25</th>\n",
              "      <td>203114</td>\n",
              "      <td>26</td>\n",
              "      <td>Khris Middleton</td>\n",
              "      <td>1610612749</td>\n",
              "      <td>MIL</td>\n",
              "      <td>66</td>\n",
              "      <td>32.4</td>\n",
              "      <td>6.8</td>\n",
              "      <td>15.5</td>\n",
              "      <td>0.443</td>\n",
              "      <td>...</td>\n",
              "      <td>358</td>\n",
              "      <td>76</td>\n",
              "      <td>18</td>\n",
              "      <td>190</td>\n",
              "      <td>160</td>\n",
              "      <td>1325</td>\n",
              "      <td>1342</td>\n",
              "      <td>1.88</td>\n",
              "      <td>0.40</td>\n",
              "      <td>1</td>\n",
              "    </tr>\n",
              "    <tr>\n",
              "      <th>27</th>\n",
              "      <td>1626179</td>\n",
              "      <td>28</td>\n",
              "      <td>Terry Rozier</td>\n",
              "      <td>1610612766</td>\n",
              "      <td>CHA</td>\n",
              "      <td>73</td>\n",
              "      <td>33.7</td>\n",
              "      <td>7.1</td>\n",
              "      <td>16.0</td>\n",
              "      <td>0.444</td>\n",
              "      <td>...</td>\n",
              "      <td>326</td>\n",
              "      <td>93</td>\n",
              "      <td>25</td>\n",
              "      <td>96</td>\n",
              "      <td>119</td>\n",
              "      <td>1408</td>\n",
              "      <td>1396</td>\n",
              "      <td>3.40</td>\n",
              "      <td>0.97</td>\n",
              "      <td>0</td>\n",
              "    </tr>\n",
              "    <tr>\n",
              "      <th>36</th>\n",
              "      <td>1626174</td>\n",
              "      <td>37</td>\n",
              "      <td>Christian Wood</td>\n",
              "      <td>1610612745</td>\n",
              "      <td>HOU</td>\n",
              "      <td>68</td>\n",
              "      <td>30.8</td>\n",
              "      <td>6.5</td>\n",
              "      <td>12.9</td>\n",
              "      <td>0.501</td>\n",
              "      <td>...</td>\n",
              "      <td>155</td>\n",
              "      <td>54</td>\n",
              "      <td>65</td>\n",
              "      <td>126</td>\n",
              "      <td>171</td>\n",
              "      <td>1218</td>\n",
              "      <td>1489</td>\n",
              "      <td>1.23</td>\n",
              "      <td>0.43</td>\n",
              "      <td>0</td>\n",
              "    </tr>\n",
              "    <tr>\n",
              "      <th>79</th>\n",
              "      <td>200768</td>\n",
              "      <td>80</td>\n",
              "      <td>Kyle Lowry</td>\n",
              "      <td>1610612748</td>\n",
              "      <td>MIA</td>\n",
              "      <td>63</td>\n",
              "      <td>33.9</td>\n",
              "      <td>4.4</td>\n",
              "      <td>10.0</td>\n",
              "      <td>0.440</td>\n",
              "      <td>...</td>\n",
              "      <td>474</td>\n",
              "      <td>67</td>\n",
              "      <td>17</td>\n",
              "      <td>168</td>\n",
              "      <td>177</td>\n",
              "      <td>844</td>\n",
              "      <td>1139</td>\n",
              "      <td>2.82</td>\n",
              "      <td>0.40</td>\n",
              "      <td>0</td>\n",
              "    </tr>\n",
              "    <tr>\n",
              "      <th>68</th>\n",
              "      <td>101108</td>\n",
              "      <td>69</td>\n",
              "      <td>Chris Paul</td>\n",
              "      <td>1610612756</td>\n",
              "      <td>PHX</td>\n",
              "      <td>65</td>\n",
              "      <td>32.9</td>\n",
              "      <td>5.6</td>\n",
              "      <td>11.3</td>\n",
              "      <td>0.493</td>\n",
              "      <td>...</td>\n",
              "      <td>702</td>\n",
              "      <td>121</td>\n",
              "      <td>20</td>\n",
              "      <td>153</td>\n",
              "      <td>134</td>\n",
              "      <td>958</td>\n",
              "      <td>1525</td>\n",
              "      <td>4.59</td>\n",
              "      <td>0.79</td>\n",
              "      <td>1</td>\n",
              "    </tr>\n",
              "    <tr>\n",
              "      <th>32</th>\n",
              "      <td>201950</td>\n",
              "      <td>33</td>\n",
              "      <td>Jrue Holiday</td>\n",
              "      <td>1610612749</td>\n",
              "      <td>MIL</td>\n",
              "      <td>67</td>\n",
              "      <td>32.9</td>\n",
              "      <td>7.1</td>\n",
              "      <td>14.2</td>\n",
              "      <td>0.501</td>\n",
              "      <td>...</td>\n",
              "      <td>457</td>\n",
              "      <td>108</td>\n",
              "      <td>29</td>\n",
              "      <td>183</td>\n",
              "      <td>133</td>\n",
              "      <td>1225</td>\n",
              "      <td>1418</td>\n",
              "      <td>2.50</td>\n",
              "      <td>0.59</td>\n",
              "      <td>0</td>\n",
              "    </tr>\n",
              "    <tr>\n",
              "      <th>58</th>\n",
              "      <td>1630169</td>\n",
              "      <td>59</td>\n",
              "      <td>Tyrese Haliburton</td>\n",
              "      <td>1610612754</td>\n",
              "      <td>IND</td>\n",
              "      <td>77</td>\n",
              "      <td>35.0</td>\n",
              "      <td>5.6</td>\n",
              "      <td>11.8</td>\n",
              "      <td>0.473</td>\n",
              "      <td>...</td>\n",
              "      <td>628</td>\n",
              "      <td>134</td>\n",
              "      <td>49</td>\n",
              "      <td>199</td>\n",
              "      <td>121</td>\n",
              "      <td>1181</td>\n",
              "      <td>1595</td>\n",
              "      <td>3.16</td>\n",
              "      <td>0.67</td>\n",
              "      <td>0</td>\n",
              "    </tr>\n",
              "    <tr>\n",
              "      <th>40</th>\n",
              "      <td>1630595</td>\n",
              "      <td>41</td>\n",
              "      <td>Cade Cunningham</td>\n",
              "      <td>1610612765</td>\n",
              "      <td>DET</td>\n",
              "      <td>64</td>\n",
              "      <td>32.6</td>\n",
              "      <td>6.7</td>\n",
              "      <td>16.1</td>\n",
              "      <td>0.416</td>\n",
              "      <td>...</td>\n",
              "      <td>356</td>\n",
              "      <td>78</td>\n",
              "      <td>43</td>\n",
              "      <td>234</td>\n",
              "      <td>200</td>\n",
              "      <td>1114</td>\n",
              "      <td>1083</td>\n",
              "      <td>1.52</td>\n",
              "      <td>0.33</td>\n",
              "      <td>0</td>\n",
              "    </tr>\n",
              "    <tr>\n",
              "      <th>60</th>\n",
              "      <td>1630532</td>\n",
              "      <td>61</td>\n",
              "      <td>Franz Wagner</td>\n",
              "      <td>1610612753</td>\n",
              "      <td>ORL</td>\n",
              "      <td>79</td>\n",
              "      <td>30.7</td>\n",
              "      <td>5.8</td>\n",
              "      <td>12.3</td>\n",
              "      <td>0.468</td>\n",
              "      <td>...</td>\n",
              "      <td>231</td>\n",
              "      <td>68</td>\n",
              "      <td>34</td>\n",
              "      <td>119</td>\n",
              "      <td>164</td>\n",
              "      <td>1197</td>\n",
              "      <td>1218</td>\n",
              "      <td>1.94</td>\n",
              "      <td>0.57</td>\n",
              "      <td>0</td>\n",
              "    </tr>\n",
              "    <tr>\n",
              "      <th>127</th>\n",
              "      <td>1629057</td>\n",
              "      <td>128</td>\n",
              "      <td>Robert Williams III</td>\n",
              "      <td>1610612738</td>\n",
              "      <td>BOS</td>\n",
              "      <td>61</td>\n",
              "      <td>29.6</td>\n",
              "      <td>4.4</td>\n",
              "      <td>6.0</td>\n",
              "      <td>0.736</td>\n",
              "      <td>...</td>\n",
              "      <td>121</td>\n",
              "      <td>56</td>\n",
              "      <td>134</td>\n",
              "      <td>63</td>\n",
              "      <td>137</td>\n",
              "      <td>607</td>\n",
              "      <td>1321</td>\n",
              "      <td>1.92</td>\n",
              "      <td>0.89</td>\n",
              "      <td>0</td>\n",
              "    </tr>\n",
              "    <tr>\n",
              "      <th>58</th>\n",
              "      <td>1630169</td>\n",
              "      <td>59</td>\n",
              "      <td>Tyrese Haliburton</td>\n",
              "      <td>1610612754</td>\n",
              "      <td>IND</td>\n",
              "      <td>77</td>\n",
              "      <td>35.0</td>\n",
              "      <td>5.6</td>\n",
              "      <td>11.8</td>\n",
              "      <td>0.473</td>\n",
              "      <td>...</td>\n",
              "      <td>628</td>\n",
              "      <td>134</td>\n",
              "      <td>49</td>\n",
              "      <td>199</td>\n",
              "      <td>121</td>\n",
              "      <td>1181</td>\n",
              "      <td>1595</td>\n",
              "      <td>3.16</td>\n",
              "      <td>0.67</td>\n",
              "      <td>0</td>\n",
              "    </tr>\n",
              "  </tbody>\n",
              "</table>\n",
              "<p>18 rows × 53 columns</p>\n",
              "</div>\n",
              "      <button class=\"colab-df-convert\" onclick=\"convertToInteractive('df-3ab3464d-3474-4b41-997c-d9c916655eb9')\"\n",
              "              title=\"Convert this dataframe to an interactive table.\"\n",
              "              style=\"display:none;\">\n",
              "        \n",
              "  <svg xmlns=\"http://www.w3.org/2000/svg\" height=\"24px\"viewBox=\"0 0 24 24\"\n",
              "       width=\"24px\">\n",
              "    <path d=\"M0 0h24v24H0V0z\" fill=\"none\"/>\n",
              "    <path d=\"M18.56 5.44l.94 2.06.94-2.06 2.06-.94-2.06-.94-.94-2.06-.94 2.06-2.06.94zm-11 1L8.5 8.5l.94-2.06 2.06-.94-2.06-.94L8.5 2.5l-.94 2.06-2.06.94zm10 10l.94 2.06.94-2.06 2.06-.94-2.06-.94-.94-2.06-.94 2.06-2.06.94z\"/><path d=\"M17.41 7.96l-1.37-1.37c-.4-.4-.92-.59-1.43-.59-.52 0-1.04.2-1.43.59L10.3 9.45l-7.72 7.72c-.78.78-.78 2.05 0 2.83L4 21.41c.39.39.9.59 1.41.59.51 0 1.02-.2 1.41-.59l7.78-7.78 2.81-2.81c.8-.78.8-2.07 0-2.86zM5.41 20L4 18.59l7.72-7.72 1.47 1.35L5.41 20z\"/>\n",
              "  </svg>\n",
              "      </button>\n",
              "      \n",
              "  <style>\n",
              "    .colab-df-container {\n",
              "      display:flex;\n",
              "      flex-wrap:wrap;\n",
              "      gap: 12px;\n",
              "    }\n",
              "\n",
              "    .colab-df-convert {\n",
              "      background-color: #E8F0FE;\n",
              "      border: none;\n",
              "      border-radius: 50%;\n",
              "      cursor: pointer;\n",
              "      display: none;\n",
              "      fill: #1967D2;\n",
              "      height: 32px;\n",
              "      padding: 0 0 0 0;\n",
              "      width: 32px;\n",
              "    }\n",
              "\n",
              "    .colab-df-convert:hover {\n",
              "      background-color: #E2EBFA;\n",
              "      box-shadow: 0px 1px 2px rgba(60, 64, 67, 0.3), 0px 1px 3px 1px rgba(60, 64, 67, 0.15);\n",
              "      fill: #174EA6;\n",
              "    }\n",
              "\n",
              "    [theme=dark] .colab-df-convert {\n",
              "      background-color: #3B4455;\n",
              "      fill: #D2E3FC;\n",
              "    }\n",
              "\n",
              "    [theme=dark] .colab-df-convert:hover {\n",
              "      background-color: #434B5C;\n",
              "      box-shadow: 0px 1px 3px 1px rgba(0, 0, 0, 0.15);\n",
              "      filter: drop-shadow(0px 1px 2px rgba(0, 0, 0, 0.3));\n",
              "      fill: #FFFFFF;\n",
              "    }\n",
              "  </style>\n",
              "\n",
              "      <script>\n",
              "        const buttonEl =\n",
              "          document.querySelector('#df-3ab3464d-3474-4b41-997c-d9c916655eb9 button.colab-df-convert');\n",
              "        buttonEl.style.display =\n",
              "          google.colab.kernel.accessAllowed ? 'block' : 'none';\n",
              "\n",
              "        async function convertToInteractive(key) {\n",
              "          const element = document.querySelector('#df-3ab3464d-3474-4b41-997c-d9c916655eb9');\n",
              "          const dataTable =\n",
              "            await google.colab.kernel.invokeFunction('convertToInteractive',\n",
              "                                                     [key], {});\n",
              "          if (!dataTable) return;\n",
              "\n",
              "          const docLinkHtml = 'Like what you see? Visit the ' +\n",
              "            '<a target=\"_blank\" href=https://colab.research.google.com/notebooks/data_table.ipynb>data table notebook</a>'\n",
              "            + ' to learn more about interactive tables.';\n",
              "          element.innerHTML = '';\n",
              "          dataTable['output_type'] = 'display_data';\n",
              "          await google.colab.output.renderOutput(dataTable, element);\n",
              "          const docLink = document.createElement('div');\n",
              "          docLink.innerHTML = docLinkHtml;\n",
              "          element.appendChild(docLink);\n",
              "        }\n",
              "      </script>\n",
              "    </div>\n",
              "  </div>\n",
              "  "
            ]
          },
          "metadata": {},
          "execution_count": 29
        }
      ]
    },
    {
      "cell_type": "code",
      "source": [
        "Y_train = whole_df[\"ALLSTAR\"]\n",
        "model = KNeighborsClassifier(n_neighbors=10)\n",
        "model.fit(X=training_x, y=training_y)"
      ],
      "metadata": {
        "colab": {
          "base_uri": "https://localhost:8080/",
          "height": 129
        },
        "id": "wt1aZT4Kej1H",
        "outputId": "3e9d4743-d4e4-4d6a-fe7d-29d2f397df84"
      },
      "execution_count": null,
      "outputs": [
        {
          "output_type": "stream",
          "name": "stderr",
          "text": [
            "/usr/local/lib/python3.9/dist-packages/sklearn/neighbors/_classification.py:215: DataConversionWarning: A column-vector y was passed when a 1d array was expected. Please change the shape of y to (n_samples,), for example using ravel().\n",
            "  return self._fit(X, y)\n"
          ]
        },
        {
          "output_type": "execute_result",
          "data": {
            "text/plain": [
              "KNeighborsClassifier(n_neighbors=10)"
            ],
            "text/html": [
              "<style>#sk-container-id-2 {color: black;background-color: white;}#sk-container-id-2 pre{padding: 0;}#sk-container-id-2 div.sk-toggleable {background-color: white;}#sk-container-id-2 label.sk-toggleable__label {cursor: pointer;display: block;width: 100%;margin-bottom: 0;padding: 0.3em;box-sizing: border-box;text-align: center;}#sk-container-id-2 label.sk-toggleable__label-arrow:before {content: \"▸\";float: left;margin-right: 0.25em;color: #696969;}#sk-container-id-2 label.sk-toggleable__label-arrow:hover:before {color: black;}#sk-container-id-2 div.sk-estimator:hover label.sk-toggleable__label-arrow:before {color: black;}#sk-container-id-2 div.sk-toggleable__content {max-height: 0;max-width: 0;overflow: hidden;text-align: left;background-color: #f0f8ff;}#sk-container-id-2 div.sk-toggleable__content pre {margin: 0.2em;color: black;border-radius: 0.25em;background-color: #f0f8ff;}#sk-container-id-2 input.sk-toggleable__control:checked~div.sk-toggleable__content {max-height: 200px;max-width: 100%;overflow: auto;}#sk-container-id-2 input.sk-toggleable__control:checked~label.sk-toggleable__label-arrow:before {content: \"▾\";}#sk-container-id-2 div.sk-estimator input.sk-toggleable__control:checked~label.sk-toggleable__label {background-color: #d4ebff;}#sk-container-id-2 div.sk-label input.sk-toggleable__control:checked~label.sk-toggleable__label {background-color: #d4ebff;}#sk-container-id-2 input.sk-hidden--visually {border: 0;clip: rect(1px 1px 1px 1px);clip: rect(1px, 1px, 1px, 1px);height: 1px;margin: -1px;overflow: hidden;padding: 0;position: absolute;width: 1px;}#sk-container-id-2 div.sk-estimator {font-family: monospace;background-color: #f0f8ff;border: 1px dotted black;border-radius: 0.25em;box-sizing: border-box;margin-bottom: 0.5em;}#sk-container-id-2 div.sk-estimator:hover {background-color: #d4ebff;}#sk-container-id-2 div.sk-parallel-item::after {content: \"\";width: 100%;border-bottom: 1px solid gray;flex-grow: 1;}#sk-container-id-2 div.sk-label:hover label.sk-toggleable__label {background-color: #d4ebff;}#sk-container-id-2 div.sk-serial::before {content: \"\";position: absolute;border-left: 1px solid gray;box-sizing: border-box;top: 0;bottom: 0;left: 50%;z-index: 0;}#sk-container-id-2 div.sk-serial {display: flex;flex-direction: column;align-items: center;background-color: white;padding-right: 0.2em;padding-left: 0.2em;position: relative;}#sk-container-id-2 div.sk-item {position: relative;z-index: 1;}#sk-container-id-2 div.sk-parallel {display: flex;align-items: stretch;justify-content: center;background-color: white;position: relative;}#sk-container-id-2 div.sk-item::before, #sk-container-id-2 div.sk-parallel-item::before {content: \"\";position: absolute;border-left: 1px solid gray;box-sizing: border-box;top: 0;bottom: 0;left: 50%;z-index: -1;}#sk-container-id-2 div.sk-parallel-item {display: flex;flex-direction: column;z-index: 1;position: relative;background-color: white;}#sk-container-id-2 div.sk-parallel-item:first-child::after {align-self: flex-end;width: 50%;}#sk-container-id-2 div.sk-parallel-item:last-child::after {align-self: flex-start;width: 50%;}#sk-container-id-2 div.sk-parallel-item:only-child::after {width: 0;}#sk-container-id-2 div.sk-dashed-wrapped {border: 1px dashed gray;margin: 0 0.4em 0.5em 0.4em;box-sizing: border-box;padding-bottom: 0.4em;background-color: white;}#sk-container-id-2 div.sk-label label {font-family: monospace;font-weight: bold;display: inline-block;line-height: 1.2em;}#sk-container-id-2 div.sk-label-container {text-align: center;}#sk-container-id-2 div.sk-container {/* jupyter's `normalize.less` sets `[hidden] { display: none; }` but bootstrap.min.css set `[hidden] { display: none !important; }` so we also need the `!important` here to be able to override the default hidden behavior on the sphinx rendered scikit-learn.org. See: https://github.com/scikit-learn/scikit-learn/issues/21755 */display: inline-block !important;position: relative;}#sk-container-id-2 div.sk-text-repr-fallback {display: none;}</style><div id=\"sk-container-id-2\" class=\"sk-top-container\"><div class=\"sk-text-repr-fallback\"><pre>KNeighborsClassifier(n_neighbors=10)</pre><b>In a Jupyter environment, please rerun this cell to show the HTML representation or trust the notebook. <br />On GitHub, the HTML representation is unable to render, please try loading this page with nbviewer.org.</b></div><div class=\"sk-container\" hidden><div class=\"sk-item\"><div class=\"sk-estimator sk-toggleable\"><input class=\"sk-toggleable__control sk-hidden--visually\" id=\"sk-estimator-id-2\" type=\"checkbox\" checked><label for=\"sk-estimator-id-2\" class=\"sk-toggleable__label sk-toggleable__label-arrow\">KNeighborsClassifier</label><div class=\"sk-toggleable__content\"><pre>KNeighborsClassifier(n_neighbors=10)</pre></div></div></div></div></div>"
            ]
          },
          "metadata": {},
          "execution_count": 32
        }
      ]
    },
    {
      "cell_type": "code",
      "source": [
        "y_train_ = model.predict(training_x)\n",
        "accuracy = (y_train_ == Y_train).mean()\n",
        "accuracy"
      ],
      "metadata": {
        "colab": {
          "base_uri": "https://localhost:8080/"
        },
        "id": "Bel86C6re3Ns",
        "outputId": "2d68f1f2-66b7-4f0c-a012-d54352f70781"
      },
      "execution_count": null,
      "outputs": [
        {
          "output_type": "execute_result",
          "data": {
            "text/plain": [
              "0.9605263157894737"
            ]
          },
          "metadata": {},
          "execution_count": 39
        }
      ]
    },
    {
      "cell_type": "code",
      "source": [
        "true_positives = ((y_train_ == 0) & (Y_train == 0)).sum()\n",
        "\n",
        "precision = true_positives / (y_train_ == 0).sum()\n",
        "recall = true_positives / (training_y == 0).sum()\n",
        "    \n",
        "precision, recall"
      ],
      "metadata": {
        "colab": {
          "base_uri": "https://localhost:8080/"
        },
        "id": "VW6FN_n8ftlS",
        "outputId": "211e3ed5-0fae-4a3c-9463-a16ad885910c"
      },
      "execution_count": null,
      "outputs": [
        {
          "output_type": "execute_result",
          "data": {
            "text/plain": [
              "(0.9629629629629629, ALLSTAR    0.995215\n",
              " dtype: float64)"
            ]
          },
          "metadata": {},
          "execution_count": 43
        }
      ]
    },
    {
      "cell_type": "code",
      "source": [
        "from sklearn.metrics import f1_score\n",
        "\n",
        "f1_score(Y_train == 0, y_train_ == 0)"
      ],
      "metadata": {
        "colab": {
          "base_uri": "https://localhost:8080/"
        },
        "id": "EAtE_fDog7ZO",
        "outputId": "fd694223-80f0-4625-dc23-4f545f731ad8"
      },
      "execution_count": null,
      "outputs": [
        {
          "output_type": "execute_result",
          "data": {
            "text/plain": [
              "0.9788235294117646"
            ]
          },
          "metadata": {},
          "execution_count": 44
        }
      ]
    }
  ]
}